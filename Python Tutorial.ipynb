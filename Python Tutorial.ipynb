{
 "cells": [
  {
   "cell_type": "markdown",
   "id": "2136aaaf",
   "metadata": {},
   "source": [
    "In this notebook we will cover some basic Python programming concepts along with best programming practices. We will learn to represent and store data using Python data types and variables, and use conditionals and loops to control the flow of our programs. We will learn complex data structures like lists, sets, dictionaries, and tuples to store & extract collections of related data. We will also cover how to open, read and write files in python.\n",
    "<br>\n",
    "<br>\n",
    "<img src = \"https://files.realpython.com/media/Newbie_Watermarked.a9319218252a.jpg\" width = \"600\"/>\n",
    "<br>\n",
    "<center><str><a target=\"_blank\" href=\"https://files.realpython.com/media/Newbie_Watermarked.a9319218252a.jpg\">Image Source</a></str></center>"
   ]
  },
  {
   "cell_type": "markdown",
   "id": "d1ddf205",
   "metadata": {},
   "source": [
    "<a id = \"0.\"></a>\n",
    "# Table of Contents \n",
    "\n",
    "1. [Introduction](#1.)\n",
    "<br>\n",
    "2. [Data Types](#2.)\n",
    "\n",
    "    2.1 [Variables](#2.1)\n",
    "    \n",
    "    2.2 [Numbers](#2.2)\n",
    "    \n",
    "    2.3 [Strings](#2.3)\n",
    "    \n",
    "    2.4 [Lists](#2.4)\n",
    "    \n",
    "    2.5 [Dictionaries](#2.5)\n",
    "    \n",
    "    2.6 [Tuples](#2.6)\n",
    "    \n",
    "    2.7 [Sets](#2.7)\n",
    "    \n",
    "\n",
    "3. [Comparison Operators](#3.)\n",
    "<br>\n",
    "4. [If-Else Condition](#4.)\n",
    "<br>\n",
    "5. [For and While Loops](#5.)\n",
    "<br>\n",
    "6. [Functions](#6.)\n",
    "<br>\n",
    "7. [Lambda Functions](#7.)\n",
    "\n",
    "    7.1 [Map() Function](#7.1)\n",
    "    \n",
    "    7.2 [Filter() Function](#7.2)\n",
    "<br>       \n",
    "8. [Input() Function](#8.)\n",
    "<br>\n",
    "9. [File Handlling in Python](#9.)\n",
    "<br>\n",
    "10. [Calculator (Mini-Project)](#10.)"
   ]
  },
  {
   "cell_type": "markdown",
   "id": "b3f13751",
   "metadata": {},
   "source": [
    "<a id = \"1.\"></a>\n",
    "# 1. Introduction\n",
    "\n",
    "<div class=\"alert alert-block alert-success\">\n",
    "Python is an open-source & interpreted programming language. It's syntax is very similar to English language that's why it is easy to learn. In other programming languages, we have to declare the data types we want to use but in Python there is no need do this. It has become very popular language for Data Science, Data Analytics, Machine Learning & Deep Learning these days.</div>\n",
    "\n"
   ]
  },
  {
   "cell_type": "markdown",
   "id": "8f414ed1",
   "metadata": {},
   "source": [
    "<a id = \"2.\"></a>\n",
    "\n",
    "# 2. Data Types\n",
    "<br>\n",
    "<img src = \"https://files.realpython.com/media/Basic-Data-Types-in-Python_Watermarked.e3dd34457952.jpg\" width = 600 align = \"center\" />\n",
    "<br>\n",
    "<center><str><a target=\"_blank\" href=\"https://files.realpython.com/media/Basic-Data-Types-in-Python_Watermarked.e3dd34457952.jpg\">Image Source</a></str></center>\n",
    "<br>\n",
    "\n",
    "Following data types are used in python to store and access data:"
   ]
  },
  {
   "cell_type": "markdown",
   "id": "670feb45",
   "metadata": {},
   "source": [
    "[Move to Table of Contents](#0.)"
   ]
  },
  {
   "cell_type": "markdown",
   "id": "4ca18fc1",
   "metadata": {},
   "source": [
    "<a id = \"2.1\"></a>\n",
    "### 2.1 Variables\n",
    "\n",
    "<div class=\"alert alert-block alert-info\">\n",
    "Variables are just like a containter. These are used to store different data types.\n",
    "</div>\n",
    "\n",
    "<br>\n",
    "<img src = \"https://files.realpython.com/media/Variables-in-Python_Watermarked.3868fbf92e1d.jpg\" width = 600 />\n",
    "<br>\n",
    "<center><str><a target=\"_blank\" href=\"https://files.realpython.com/media/Variables-in-Python_Watermarked.3868fbf92e1d.jpg\">Image Source</a></str></center>\n",
    "<br>\n"
   ]
  },
  {
   "cell_type": "markdown",
   "id": "8331dd7f",
   "metadata": {},
   "source": [
    "<div class=\"alert alert-block alert-info\">\n",
    "    <b>print( )</b> is a built-in function in python which is used to display values to it as an argument\n",
    "    <br>\n",
    "    <b>type( )</b> function helps us in finding the class type of variable given as an input\n",
    "</div>"
   ]
  },
  {
   "cell_type": "markdown",
   "id": "14d0f643",
   "metadata": {},
   "source": [
    "Let's see some examples:"
   ]
  },
  {
   "cell_type": "code",
   "execution_count": 14,
   "id": "04d1f122",
   "metadata": {},
   "outputs": [
    {
     "name": "stdout",
     "output_type": "stream",
     "text": [
      "40 <class 'int'>\n",
      "100.0 <class 'float'>\n",
      "Ahmad <class 'str'>\n"
     ]
    }
   ],
   "source": [
    "miles = 40  # integer type variable\n",
    "counter = 100.0  # float type variable\n",
    "name = \"Ahmad\"  # string type variable\n",
    "\n",
    "print(miles, type(miles))\n",
    "print(counter, type(counter))\n",
    "print(name, type(name))"
   ]
  },
  {
   "cell_type": "markdown",
   "id": "3757c439",
   "metadata": {},
   "source": [
    "[Move to Table of Contents](#0.)"
   ]
  },
  {
   "cell_type": "markdown",
   "id": "e52035d5",
   "metadata": {},
   "source": [
    "<a id = \"2.2\"></a>\n",
    "### 2.2 Numbers\n",
    "\n",
    "<div class=\"alert alert-block alert-info\">\n",
    "Number data type contains a numeric values. These are integers and floats. Python also supports Python also supports arithmetic operators like +, -, /, //, %.</div>\n",
    "\n",
    "<br>\n",
    "<img src = \"https://files.realpython.com/media/Python-Basics-Chapter-Numbers-in-Python_Watermarked.70cee8925cbf.jpg\" width = 600/>\n",
    "<br>\n",
    "<center><str><a target=\"_blank\" href=\"https://files.realpython.com/media/Python-Basics-Chapter-Numbers-in-Python_Watermarked.70cee8925cbf.jpg\">Image Source</a></str></center>\n",
    "<br>\n",
    "\n",
    "Some examples are given below:"
   ]
  },
  {
   "cell_type": "code",
   "execution_count": 43,
   "id": "1c587f24",
   "metadata": {},
   "outputs": [
    {
     "name": "stdout",
     "output_type": "stream",
     "text": [
      "2 <class 'int'>\n",
      "7 <class 'int'>\n",
      "1.9 <class 'float'>\n",
      "7.1 <class 'float'>\n"
     ]
    }
   ],
   "source": [
    "print(2, type(2)) # integer\n",
    "print(1.9, type(1.9)) # float"
   ]
  },
  {
   "cell_type": "code",
   "execution_count": 33,
   "id": "1a64b1be",
   "metadata": {},
   "outputs": [
    {
     "name": "stdout",
     "output_type": "stream",
     "text": [
      "1 + 3 =  4\n",
      "5 - 1 =  4\n",
      "10 / 3 =  3.3333333333333335\n",
      "10 // 3 =  3\n",
      "10 % 3 =  1\n",
      "2 ** 5 =  32\n"
     ]
    }
   ],
   "source": [
    "print(\"1 + 3 = \", 1 + 3)\n",
    "print(\"5 - 1 = \", 5 - 1)\n",
    "print(\"10 / 3 = \", 10 / 3) # '/' returns a float\n",
    "print(\"10 // 3 = \", 10 // 3) # '//'  returns an integer\n",
    "print(\"10 % 3 = \", 10 % 3) # '%' return the remainder\n",
    "print(\"2 ** 5 = \", 2 ** 5) # ** is used for exponent or power"
   ]
  },
  {
   "cell_type": "markdown",
   "id": "b2dae7af",
   "metadata": {},
   "source": [
    "[Move to Table of Contents](#0.)"
   ]
  },
  {
   "cell_type": "markdown",
   "id": "97f0c1ad",
   "metadata": {},
   "source": [
    "<a id = \"2.3\"></a>\n",
    "### 2.3 Strings\n",
    "\n",
    "<div class=\"alert alert-block alert-info\">\n",
    "Strings are immmutable data type means they can't be changed. Strings are decalred with either single or double quotes. They are used to store characters, words or combination of words, alpha-numeric characters etc. Strings can be used with single or double quotes. Unlike other programming languages, Python does not support *char* data type. A character will also be considered as a string.\n",
    "</div>\n",
    "\n",
    "\n",
    "<br>\n",
    "<img src = \"https://files.realpython.com/media/Strings-and-Character-Data-in-Python_Watermarked.797803948b10.jpg\" width = 600/>\n",
    "<br>\n",
    "<center><str><a target=\"_blank\" href=\"https://files.realpython.com/media/Strings-and-Character-Data-in-Python_Watermarked.797803948b10.jpg\">Image Source</a></str></center>\n",
    "<br>\n",
    "\n",
    "Following are some examples:"
   ]
  },
  {
   "cell_type": "code",
   "execution_count": 1,
   "id": "102cf9e9",
   "metadata": {},
   "outputs": [
    {
     "name": "stdout",
     "output_type": "stream",
     "text": [
      "Ali <class 'str'>\n",
      "30 <class 'str'>\n",
      "A <class 'str'>\n",
      "This is a string <class 'str'>\n"
     ]
    }
   ],
   "source": [
    "name = \"Ali\"\n",
    "father = \"Ahamd\"\n",
    "age = \"30\" # storing an integer number in string variable age\n",
    "letter = \"A\"\n",
    "str_var = \"This is a string\"\n",
    "\n",
    "print(name, type(name))\n",
    "print(age, type(age))\n",
    "print(letter, type(letter))\n",
    "print(str_var, type(str_var))"
   ]
  },
  {
   "cell_type": "markdown",
   "id": "7e43aa10",
   "metadata": {},
   "source": [
    "### Accessing and slicing values in Strings\n",
    "\n",
    "<div class=\"alert alert-block alert-info\">\n",
    "In python, square brackets \"[ ]\" are used to access values in strings. We can also access a specific character or range of character from a string. For slicing a string within some range, we would specifiy the index values i.e [1:4]. Here the 4th index would not be included in the slicing.\n",
    "</div>\n",
    "\n",
    "<br>\n",
    "<img src = \"https://media.geeksforgeeks.org/wp-content/uploads/List-Slicing.jpg\" width = 600 align = \"center\"/>\n",
    "<br>\n",
    "<center><str><a target=\"_blank\" href=\"https://media.geeksforgeeks.org/wp-content/uploads/List-Slicing.jpg\">Image Source</a></str></center>\n",
    "<br>\n",
    "\n",
    "Following are some examples:"
   ]
  },
  {
   "cell_type": "code",
   "execution_count": 5,
   "id": "c0ad9ef1",
   "metadata": {},
   "outputs": [
    {
     "name": "stdout",
     "output_type": "stream",
     "text": [
      "stringVariable[0]:  H\n",
      "stringVariable[1:4]:  ell\n",
      "stringVariable[:4]:  Hell\n",
      "stringVariable[1:]:  ello World\n",
      "stringVariable[-1]:  d\n",
      "stringVariable[5:-1]:   Worl\n"
     ]
    }
   ],
   "source": [
    "stringVariable = \"Hello World\"\n",
    " \n",
    "# In python indexing starts from 0 not 1\n",
    "print(\"stringVariable[0]: \" , stringVariable[0]) # accessing first character of the string at position 0\n",
    "print(\"stringVariable[1:4]: \", stringVariable[1:4]) # 4th index is excluded\n",
    "print(\"stringVariable[:4]: \" , stringVariable[:4]) # if we don't specify the first index the 0th index will be considered by default\n",
    "print(\"stringVariable[1:]: \" , stringVariable[1:]) # if we don't specify the last index then n-1th index will be considered by default (means the index will be through the last)\n",
    "print(\"stringVariable[-1]: \" , stringVariable[-1]) # negative index values will retrun elements from the last\n",
    "print(\"stringVariable[5:-1]: \" , stringVariable[5:-1]) # again the second index value will be excluded"
   ]
  },
  {
   "cell_type": "markdown",
   "id": "4731e006",
   "metadata": {},
   "source": [
    "### Updating String\n",
    "\n",
    "<div class=\"alert alert-block alert-info\">\n",
    "Strings are immutable data type but we can update its value by adding another string with \"+\" opertator. \n",
    "</div>\n",
    "\n",
    "\n",
    "Following are some examples:"
   ]
  },
  {
   "cell_type": "code",
   "execution_count": 19,
   "id": "f2b1cf6b",
   "metadata": {},
   "outputs": [
    {
     "name": "stdout",
     "output_type": "stream",
     "text": [
      "Updated string 1:  Hello Python\n",
      "Updated string 2:  Helabc\n",
      "Updated string 3:  Hello WorldAli\n"
     ]
    }
   ],
   "source": [
    "stringVariable = \"Hello World\"\n",
    "stringVariable = stringVariable[:6] + \"Python\"\n",
    "print(\"Updated string 1: \", stringVariable)\n",
    "\n",
    "stringVariable = \"Hello World\"\n",
    "stringVariable = stringVariable[:3] + \"abc\"\n",
    "print(\"Updated string 2: \", stringVariable)\n",
    "\n",
    "stringVariable = \"Hello World\"\n",
    "stringVariable = stringVariable[:] + \"Ali\"\n",
    "print(\"Updated string 3: \", stringVariable)"
   ]
  },
  {
   "cell_type": "markdown",
   "id": "df1ab4bd",
   "metadata": {},
   "source": [
    "### Deleting String\n",
    "\n",
    "<div class=\"alert alert-block alert-warning\">\n",
    "If we want to delete a string, we can do it by using <b>del</b> statement. <b>del</b> will delete the variabe that stores the string.\n",
    "But we can't delete and individual element from a string as they are immutable.</div>\n",
    "\n",
    "\n",
    "Let's see an example:"
   ]
  },
  {
   "cell_type": "code",
   "execution_count": 99,
   "id": "d1abdf39",
   "metadata": {},
   "outputs": [
    {
     "ename": "TypeError",
     "evalue": "'str' object doesn't support item deletion",
     "output_type": "error",
     "traceback": [
      "\u001b[1;31m---------------------------------------------------------------------------\u001b[0m",
      "\u001b[1;31mTypeError\u001b[0m                                 Traceback (most recent call last)",
      "Input \u001b[1;32mIn [99]\u001b[0m, in \u001b[0;36m<cell line: 2>\u001b[1;34m()\u001b[0m\n\u001b[0;32m      1\u001b[0m name \u001b[38;5;241m=\u001b[39m \u001b[38;5;124m\"\u001b[39m\u001b[38;5;124mAhmad\u001b[39m\u001b[38;5;124m\"\u001b[39m\n\u001b[1;32m----> 2\u001b[0m \u001b[38;5;28;01mdel\u001b[39;00m name[\u001b[38;5;241m0\u001b[39m]\n",
      "\u001b[1;31mTypeError\u001b[0m: 'str' object doesn't support item deletion"
     ]
    }
   ],
   "source": [
    "name = \"Ahmad\"\n",
    "del name[0] # gives an error because we can't delete an element from a string"
   ]
  },
  {
   "cell_type": "code",
   "execution_count": 100,
   "id": "cb6f0de1",
   "metadata": {},
   "outputs": [
    {
     "name": "stdout",
     "output_type": "stream",
     "text": [
      "Ali Hassan\n"
     ]
    },
    {
     "ename": "NameError",
     "evalue": "name 'name' is not defined",
     "output_type": "error",
     "traceback": [
      "\u001b[1;31m---------------------------------------------------------------------------\u001b[0m",
      "\u001b[1;31mNameError\u001b[0m                                 Traceback (most recent call last)",
      "Input \u001b[1;32mIn [100]\u001b[0m, in \u001b[0;36m<cell line: 5>\u001b[1;34m()\u001b[0m\n\u001b[0;32m      2\u001b[0m \u001b[38;5;28mprint\u001b[39m(name)\n\u001b[0;32m      4\u001b[0m \u001b[38;5;28;01mdel\u001b[39;00m name \u001b[38;5;66;03m# name variable deleted\u001b[39;00m\n\u001b[1;32m----> 5\u001b[0m \u001b[38;5;28mprint\u001b[39m(\u001b[43mname\u001b[49m)\n",
      "\u001b[1;31mNameError\u001b[0m: name 'name' is not defined"
     ]
    }
   ],
   "source": [
    "name = \"Ali Hassan\"\n",
    "print(name)\n",
    "\n",
    "del name # name variable deleted\n",
    "print(name) # gives an error as name variable is deleted"
   ]
  },
  {
   "cell_type": "markdown",
   "id": "8bd6cc47",
   "metadata": {},
   "source": [
    "### String Special Operators\n",
    "\n",
    "Following are some special operators used with strings:"
   ]
  },
  {
   "cell_type": "markdown",
   "id": "73bedcf7",
   "metadata": {},
   "source": [
    "#### '+' operator is used for concatenation \n",
    "\n",
    "Example:"
   ]
  },
  {
   "cell_type": "code",
   "execution_count": 42,
   "id": "db4c6c42",
   "metadata": {},
   "outputs": [
    {
     "name": "stdout",
     "output_type": "stream",
     "text": [
      "HelloPython\n",
      "Hello World\n",
      "Hello User\n"
     ]
    }
   ],
   "source": [
    "stringVariable = \"Hello\"\n",
    "print(stringVariable + \"Python\")\n",
    "print(stringVariable + \" World\")\n",
    "print(stringVariable + \" \" + \"User\")"
   ]
  },
  {
   "cell_type": "markdown",
   "id": "2a06a6b8",
   "metadata": {},
   "source": [
    "#### '*' operator is used for string repetition\n",
    "\n",
    "Example:"
   ]
  },
  {
   "cell_type": "code",
   "execution_count": 7,
   "id": "b7c0069b",
   "metadata": {},
   "outputs": [
    {
     "name": "stdout",
     "output_type": "stream",
     "text": [
      "AliAliAli\n",
      "zzzzz\n"
     ]
    }
   ],
   "source": [
    "name = \"Ali\"\n",
    "print(name * 3)\n",
    "\n",
    "letter = 'z'\n",
    "print(letter * 5)"
   ]
  },
  {
   "cell_type": "markdown",
   "id": "ab611411",
   "metadata": {},
   "source": [
    "#### '[ ]' gives character from string at given index\n",
    "\n",
    "Example:"
   ]
  },
  {
   "cell_type": "code",
   "execution_count": 8,
   "id": "0f94ac2c",
   "metadata": {},
   "outputs": [
    {
     "name": "stdout",
     "output_type": "stream",
     "text": [
      "a\n"
     ]
    }
   ],
   "source": [
    "name = \"Ahmad\"\n",
    "print(name[3]) # in python indexing starts from 0"
   ]
  },
  {
   "cell_type": "markdown",
   "id": "d96ff797",
   "metadata": {},
   "source": [
    "#### '[ : ]' is used to slice string at given range\n",
    "\n",
    "Example:"
   ]
  },
  {
   "cell_type": "code",
   "execution_count": 29,
   "id": "e98d9e6f",
   "metadata": {},
   "outputs": [
    {
     "name": "stdout",
     "output_type": "stream",
     "text": [
      "shan\n"
     ]
    }
   ],
   "source": [
    "name = \"Zeeshan\"\n",
    "print(name[3:7])"
   ]
  },
  {
   "cell_type": "markdown",
   "id": "9ad17d58",
   "metadata": {},
   "source": [
    "#### 'in' returns True if given character exists in the string, otherwise False\n",
    "\n",
    "Example:"
   ]
  },
  {
   "cell_type": "code",
   "execution_count": 10,
   "id": "52eda832",
   "metadata": {},
   "outputs": [
    {
     "name": "stdout",
     "output_type": "stream",
     "text": [
      "True\n",
      "False\n"
     ]
    }
   ],
   "source": [
    "name = \"Amad\"\n",
    "print('d' in name) # True\n",
    "print('g' in name) # False"
   ]
  },
  {
   "cell_type": "markdown",
   "id": "e9c6226a",
   "metadata": {},
   "source": [
    "#### 'not in' returns True if given character does not exists in the string, otherwise False\n",
    "\n",
    "Example:"
   ]
  },
  {
   "cell_type": "code",
   "execution_count": 34,
   "id": "aaf4f36f",
   "metadata": {},
   "outputs": [
    {
     "name": "stdout",
     "output_type": "stream",
     "text": [
      "True\n",
      "False\n"
     ]
    }
   ],
   "source": [
    "name = \"Bilal\"\n",
    "print('d' not in name) # True\n",
    "print('l' not in name) # False"
   ]
  },
  {
   "cell_type": "markdown",
   "id": "9afbe568",
   "metadata": {},
   "source": [
    "#### String Formatting\n",
    "\n",
    "<div class=\"alert alert-block alert-info\">\n",
    "String formatting is the easier way of formatting strings with methods and operators like <b>.format()</b>,  <b>%</b>  &  <b>{}</b>.\n",
    "</div>\n",
    "\n",
    "Examples:"
   ]
  },
  {
   "cell_type": "code",
   "execution_count": 11,
   "id": "0e2dd81b",
   "metadata": {},
   "outputs": [
    {
     "name": "stdout",
     "output_type": "stream",
     "text": [
      "My name is Zeeshan and my age is 22!\n",
      "Zeeshan is 22 years old\n",
      "I'm 22 years old and my name is Zeeshan\n"
     ]
    }
   ],
   "source": [
    "name = \"Zeeshan\"\n",
    "age = 22\n",
    "print(\"My name is {} and my age is {}!\".format(name, age))\n",
    "print(f\"{name} is {age} years old\")\n",
    "print(\"I'm %d years old and my name is %s\" % (22, \"Zeeshan\"))"
   ]
  },
  {
   "cell_type": "markdown",
   "id": "f878fb50",
   "metadata": {},
   "source": [
    "#### New line character in string\n",
    "\n",
    "<div class=\"alert alert-block alert-info\">\n",
    "    <b>\\n</b> is new line character. <b>print()</b> function has a new line character by default.\n",
    "</div>\n",
    "\n",
    "Examples:"
   ]
  },
  {
   "cell_type": "code",
   "execution_count": 34,
   "id": "374963f0",
   "metadata": {},
   "outputs": [
    {
     "name": "stdout",
     "output_type": "stream",
     "text": [
      "Hello Python \n",
      " Python is Good\n",
      "Hi\n",
      "\n",
      "Hi\n",
      "\n"
     ]
    }
   ],
   "source": [
    "print(\"Hello Python \\n Python is Good\")\n",
    "print(\"Hi\")\n",
    "\n",
    "print()\n",
    "print(\"Hi\")\n",
    "print()"
   ]
  },
  {
   "cell_type": "markdown",
   "id": "39830901",
   "metadata": {},
   "source": [
    "[Move to Table of Contents](#0.)"
   ]
  },
  {
   "cell_type": "markdown",
   "id": "12ac38b0",
   "metadata": {},
   "source": [
    "<a id = \"2.4\"></a>\n",
    "### 2.4 Lists\n",
    "\n",
    "<div class=\"alert alert-block alert-info\">\n",
    "Lists are mutable data type. These are dynamically sized arrays and are used to store multiple items of different data types in a single variable. The items in lists are arranged in order and can be duplicated. Lists are declared by using square brackets \"[ ]\". <b>list()</b> function is also used to declare a list.</div>\n",
    "\n",
    "<br>\n",
    "<br>\n",
    "<img src = \"https://files.realpython.com/media/How-to-Use-the-Python-append-Method_Watermarked.4e39826bc6f5.jpg\" width = 600 align = \"center\"/>\n",
    "<br>\n",
    "<center><str><a target=\"_blank\" href=\"https://files.realpython.com/media/How-to-Use-the-Python-append-Method_Watermarked.4e39826bc6f5.jpg\">Image Source</a></str></center>\n",
    "<br>\n",
    "\n",
    "Following are some examples:"
   ]
  },
  {
   "cell_type": "code",
   "execution_count": 88,
   "id": "08ced5db",
   "metadata": {},
   "outputs": [
    {
     "name": "stdout",
     "output_type": "stream",
     "text": [
      "fruits:  ['apple', 'banana', 'orange', 'mango', 'grapes'] <class 'list'>\n",
      "\n",
      "[]\n",
      "\n",
      "my_list:  [1, 1.0, -1, 'a', 'application', [0, 1, 2, 3]] <class 'list'>\n",
      "\n",
      "['apple', 'banana', 'orange', 'mango', 'grapes', 1, 1.0, -1, 'a', 'application', [0, 1, 2, 3]]\n"
     ]
    }
   ],
   "source": [
    "fruits = [\"apple\", \"banana\", \"orange\", \"mango\", \"grapes\"]\n",
    "print(\"fruits: \", fruits, type(fruits))\n",
    "\n",
    "print()\n",
    "names = list()\n",
    "print(names)\n",
    "print()\n",
    "\n",
    "my_list = [1, 1.0, -1, \"a\", \"application\", [0, 1, 2, 3]] # a list can contain another list inside it\n",
    "print(\"my_list: \", my_list, type(my_list))\n",
    "print()\n",
    "\n",
    "# we can also add list together\n",
    "big_list = fruits + my_list\n",
    "print(big_list)"
   ]
  },
  {
   "cell_type": "markdown",
   "id": "da3e7d46",
   "metadata": {},
   "source": [
    "### Length of a list\n",
    "\n",
    "<div class=\"alert alert-block alert-info\">\n",
    "    <b>len()</b> function returns the length of list given as an argument. \n",
    "</div>\n",
    "\n",
    "Followig are some examples:"
   ]
  },
  {
   "cell_type": "code",
   "execution_count": 21,
   "id": "634c08c0",
   "metadata": {},
   "outputs": [
    {
     "name": "stdout",
     "output_type": "stream",
     "text": [
      "5\n",
      "0\n",
      "6\n"
     ]
    }
   ],
   "source": [
    "fruits = [\"apple\", \"banana\", \"orange\", \"mango\", \"grapes\"]\n",
    "print(len(fruits))\n",
    "\n",
    "names = list()\n",
    "print(len(names))\n",
    "\n",
    "my_list = [1, 1.0, -1, \"a\", \"application\", [0, 1, 2, 3]]\n",
    "print(len(my_list))"
   ]
  },
  {
   "cell_type": "markdown",
   "id": "51950cd9",
   "metadata": {},
   "source": [
    "### Accessing and slicing values in Lists\n",
    "\n",
    "<div class=\"alert alert-block alert-info\">\n",
    "Square brackets \"[ ]\" are used to access and slice items in a list.\n",
    "</div>\n",
    "\n",
    "<br>\n",
    "<img src = \"https://encrypted-tbn2.gstatic.com/images?q=tbn:ANd9GcRbZIPK4a-p0_qaKmHHGvBgEuJCA5Fp--IvvXT6CiahFiN0g3WD\" width = 500 align = \"center\"/>\n",
    "<br>\n",
    "<center><str><a target=\"_blank\" href=\"https://encrypted-tbn2.gstatic.com/images?q=tbn:ANd9GcRbZIPK4a-p0_qaKmHHGvBgEuJCA5Fp--IvvXT6CiahFiN0g3WD\">Image Source</a></str></center>\n",
    "<br>\n",
    "\n",
    "Following are some examples:"
   ]
  },
  {
   "cell_type": "code",
   "execution_count": 22,
   "id": "c06724b0",
   "metadata": {},
   "outputs": [
    {
     "name": "stdout",
     "output_type": "stream",
     "text": [
      "fruits[3]:  mango\n",
      "my_list[2:4]:  [-1, 'a']\n",
      "my_list[5][2]:  2\n",
      "names[-1]:  Jack\n",
      "names[-2]:  [2, 1.0, 'Jack']\n",
      "names[2:-2]:  [2]\n",
      "fruits[0:5:2]:  ['apple', 'orange', 'grapes']\n"
     ]
    }
   ],
   "source": [
    "fruits = [\"apple\", \"banana\", \"orange\", \"mango\", \"grapes\"]\n",
    "print(\"fruits[3]: \", fruits[3]) # index starts from 0\n",
    "\n",
    "my_list = [1, 1.0, -1, \"a\", \"application\", [0, 1, 2, 3]]\n",
    "print(\"my_list[2:4]: \", my_list[2:4])\n",
    "print(\"my_list[5][2]: \", my_list[5][2]) # the second bracket contains the index of list inside my_list\n",
    "\n",
    "names = [\"Akbar\", \"Bilal\", 2, 1.0, \"Jack\"]\n",
    "print(\"names[-1]: \", names[-1]) # Like strings, negative indexes are also used to access items from the last\n",
    "print(\"names[-2]: \", names[-3:])\n",
    "print(\"names[2:-2]: \", names[2:-2]) # the second index in excluded\n",
    "\n",
    "fruits = [\"apple\", \"banana\", \"orange\", \"mango\", \"grapes\"]\n",
    "print(\"fruits[0:5:2]: \", fruits[0:5:2]) # here the third number in square brackets specify the steps to take for slicing"
   ]
  },
  {
   "cell_type": "markdown",
   "id": "57d2b255",
   "metadata": {},
   "source": [
    "### Updating Lists\n",
    "\n",
    "<div class=\"alert alert-block alert-info\">\n",
    "    As lists are mutable data type so we can change or update them. <b>append()</b> method is also used to add items in a list.\n",
    "</div>\n",
    "\n",
    "Following are some examples:"
   ]
  },
  {
   "cell_type": "code",
   "execution_count": 28,
   "id": "26da86ef",
   "metadata": {},
   "outputs": [
    {
     "name": "stdout",
     "output_type": "stream",
     "text": [
      "['strawberry', 'banana', 'orange', 'mango', 'grapes']\n",
      "['strawberry', 'water', 'milk', 'mango', 'grapes']\n",
      "['strawberry', 'water', 'milk', 'tomato', 'mango', 'grapes']\n",
      "['apple', 'banana', 'orange', 'mango', 'grapes', 'new fruit']\n",
      "['apple', 'banana', 'orange', 'mango', 'grapes', 'new fruit', [1, 2, 3, 4]]\n"
     ]
    }
   ],
   "source": [
    "fruits = [\"apple\", \"banana\", \"orange\", \"mango\", \"grapes\"]\n",
    "fruits[0] = \"strawberry\"\n",
    "print(fruits)\n",
    "fruits[1:3] = [\"water\", \"milk\"]\n",
    "print(fruits)\n",
    "fruits[1:3] = [\"water\", \"milk\", \"tomato\"]\n",
    "print(fruits)\n",
    "\n",
    "fruits = [\"apple\", \"banana\", \"orange\", \"mango\", \"grapes\"]\n",
    "fruits.append(\"new fruit\")\n",
    "print(fruits)\n",
    "\n",
    "num = [1, 2, 3, 4]\n",
    "fruits.append(num)\n",
    "print(fruits)"
   ]
  },
  {
   "cell_type": "markdown",
   "id": "f01c2108",
   "metadata": {},
   "source": [
    "### Deleting list element\n",
    "\n",
    "<div class=\"alert alert-block alert-warning\">\n",
    "    <b>del</b> and <b>remove()</b> are used to remove elements form a list and <b>remove()</b> does not return anything. On the other hand, <b>pop()</b> is a list method that removes the last element from a list and returns it. <b>clear()</b> method empties the entire list and does not return anything.</div>\n",
    "\n",
    "\n",
    "Following are some examples:"
   ]
  },
  {
   "cell_type": "code",
   "execution_count": 36,
   "id": "1fba103c",
   "metadata": {},
   "outputs": [
    {
     "name": "stdout",
     "output_type": "stream",
     "text": [
      "Before deletion: \n",
      "['apple', 'banana', 'orange', 'mango', 'grapes']\n",
      "After deletion: \n",
      "['banana', 'orange', 'mango', 'grapes']\n",
      "\n",
      "['apple', 'banana']\n"
     ]
    }
   ],
   "source": [
    "fruits = [\"apple\", \"banana\", \"orange\", \"mango\", \"grapes\"]\n",
    "print(\"Before deletion: \")\n",
    "print(fruits)\n",
    "\n",
    "del fruits[0]\n",
    "print(\"After deletion: \")\n",
    "print(fruits)\n",
    "print()\n",
    "\n",
    "fruits = [\"apple\", \"banana\", \"orange\", \"mango\", \"grapes\"]\n",
    "del fruits[2:5]\n",
    "print(fruits)"
   ]
  },
  {
   "cell_type": "code",
   "execution_count": 62,
   "id": "f4f9b247",
   "metadata": {},
   "outputs": [
    {
     "name": "stdout",
     "output_type": "stream",
     "text": [
      "['apple', 'banana', 'orange', 'mango']\n",
      "grapes\n",
      "mango\n",
      "[]\n",
      "None\n"
     ]
    }
   ],
   "source": [
    "fruits = [\"apple\", \"banana\", \"orange\", \"mango\", \"grapes\"]\n",
    "fruits.remove(\"grapes\")\n",
    "print(fruits)\n",
    "\n",
    "fruits = [\"apple\", \"banana\", \"orange\", \"mango\", \"grapes\"]\n",
    "print(fruits.pop()) # returns the last element\n",
    "print(fruits.pop())\n",
    "\n",
    "var = fruits.clear() # returns None\n",
    "\n",
    "print(fruits)\n",
    "print(var)"
   ]
  },
  {
   "cell_type": "markdown",
   "id": "13af223d",
   "metadata": {},
   "source": [
    "[Move to Table of Contents](#0.)"
   ]
  },
  {
   "cell_type": "markdown",
   "id": "1a5ef9af",
   "metadata": {},
   "source": [
    "<a id = \"2.5\"></a>\n",
    "### 2.5 Dictionaries\n",
    "\n",
    "<div class=\"alert alert-block alert-info\">\n",
    "Dictionaries are another mutable data type in python. They are used to store elements in a key:value pair. Dictionaries are written within curly brackets \"{ }\". However, they are also declared with <b>dict()</b> function. In a dictionary, each key:value pair is called an item. Each key in a dictionary must be unique.\n",
    "</div>\n",
    "\n",
    "<br>\n",
    "<img src = \"https://files.realpython.com/media/Dictionaries-in-Python_Watermarked.3656a2293c00.jpg\" width = 600 />\n",
    "<br>\n",
    "<center><str><a target=\"_blank\" href=\"https://files.realpython.com/media/Dictionaries-in-Python_Watermarked.3656a2293c00.jpg\">Image Source</a></str></center>\n",
    "<br>\n",
    "\n",
    "<img src = \"https://programmathically.com/wp-content/uploads/2021/05/dictionary-1024x554.png\" width = 500/>\n",
    "<br>\n",
    "<center><str><a target=\"_blank\" href=\"https://programmathically.com/wp-content/uploads/2021/05/dictionary-1024x554.png\">Image Source</a></str></center>\n",
    "<br>\n",
    "\n",
    "Following are some examples:"
   ]
  },
  {
   "cell_type": "code",
   "execution_count": 47,
   "id": "01ddd544",
   "metadata": {},
   "outputs": [
    {
     "name": "stdout",
     "output_type": "stream",
     "text": [
      "{'first name': 'Zeeshan', 'last name': 'Latif', 'age': 22, 'books': ['Math', 'Physics'], 100: 3}\n",
      "<class 'dict'>\n",
      "\n",
      "<class 'dict'>\n"
     ]
    }
   ],
   "source": [
    "student = {\"first name\" : \"Zeeshan\",\n",
    "           \"last name\" : \"Latif\",\n",
    "          \"age\" : 22,\n",
    "          \"books\" : [\"Math\", \"Physics\"],\n",
    "          100 : 3}\n",
    "print(student)\n",
    "print(type(student))\n",
    "print()\n",
    "\n",
    "my_dict = dict()\n",
    "print(type(my_dict))"
   ]
  },
  {
   "cell_type": "markdown",
   "id": "130faafd",
   "metadata": {},
   "source": [
    "#### Accessing values in Dictionary\n",
    "\n",
    "<div class=\"alert alert-block alert-info\">\n",
    "We can access the values from a dictionary by passing key to the dictionary name using square brackets \"[ ]\".\n",
    "</div>\n",
    "\n",
    "Following are some examples:"
   ]
  },
  {
   "cell_type": "code",
   "execution_count": 75,
   "id": "90dbe600",
   "metadata": {},
   "outputs": [
    {
     "name": "stdout",
     "output_type": "stream",
     "text": [
      "22\n",
      "['Math', 'Physics']\n",
      "Physics\n"
     ]
    }
   ],
   "source": [
    "student = {\"name\" : \"Zeeshan\",\n",
    "          \"age\" : 22,\n",
    "          \"books\" : [\"Math\", \"Physics\"],\n",
    "          100 : 3}\n",
    "\n",
    "print(student[\"age\"])\n",
    "print(student[\"books\"])\n",
    "print(student[\"books\"][1]) # second bracket is used to specify the index value of list stored in \"books\" key."
   ]
  },
  {
   "cell_type": "markdown",
   "id": "0d44e792",
   "metadata": {},
   "source": [
    "#### Updating items in Dictionary\n",
    "\n",
    "<div class=\"alert alert-block alert-info\">\n",
    "As dictionaries are immutable data type, we can change and add items in a dictionary. \n",
    "If we want to add a new item in a dictionary, then we will specify a new key within square brackets and then assign its value.\n",
    "</div>\n",
    "\n",
    "Let's see some examples:"
   ]
  },
  {
   "cell_type": "code",
   "execution_count": 58,
   "id": "c578d77f",
   "metadata": {},
   "outputs": [
    {
     "name": "stdout",
     "output_type": "stream",
     "text": [
      "{'name': 'Zeeshan', 'age': 22, 'books': ['Math', 'Physics'], 100: 3, 'country': 'Pakistan'}\n",
      "{'name': 'Zeeshan', 'age': 22, 'books': ['Math', 'Physics'], 100: 3, 'country': 'Pakistan', 1: 1.1}\n"
     ]
    }
   ],
   "source": [
    "student = {\"name\" : \"Zeeshan\",\n",
    "          \"age\" : 22,\n",
    "          \"books\" : [\"Math\", \"Physics\"],\n",
    "          100 : 3}\n",
    "\n",
    "student[\"country\"] = \"Pakistan\"\n",
    "print(student)\n",
    "\n",
    "student[1] = 1.1\n",
    "print(student)"
   ]
  },
  {
   "cell_type": "markdown",
   "id": "b61f7e45",
   "metadata": {},
   "source": [
    "#### Deleting items in Dictionary\n",
    "\n",
    "<div class=\"alert alert-block alert-warning\">\n",
    "    If we want to delete an item from a list then <b>del</b> statement is used. If we want to empty an entire dictionary then <b>clear()</b> method is used.\n",
    "</div>\n",
    "\n",
    "Let's see some examples:"
   ]
  },
  {
   "cell_type": "code",
   "execution_count": 66,
   "id": "713080e6",
   "metadata": {},
   "outputs": [
    {
     "name": "stdout",
     "output_type": "stream",
     "text": [
      "{'name': 'Zeeshan', 'age': 22, 'books': ['Math', 'Physics']}\n",
      "{}\n",
      "None\n"
     ]
    }
   ],
   "source": [
    "student = {\"name\" : \"Zeeshan\",\n",
    "          \"age\" : 22,\n",
    "          \"books\" : [\"Math\", \"Physics\"],\n",
    "          100 : 3}\n",
    "\n",
    "del student[100]\n",
    "print(student)\n",
    "\n",
    "var = student.clear() # returns None\n",
    "print(student)\n",
    "print(var)"
   ]
  },
  {
   "cell_type": "markdown",
   "id": "09e977a8",
   "metadata": {},
   "source": [
    "[Move to Table of Contents](#0.)"
   ]
  },
  {
   "cell_type": "markdown",
   "id": "cc4e1da2",
   "metadata": {},
   "source": [
    "<a id = \"2.6\"></a>\n",
    "### 2.6 Tuples\n",
    "\n",
    "<div class=\"alert alert-block alert-info\">\n",
    "    Unlike lists and dictionaries, tuples are immutable data type. Tuples can also store multiple data type elements. Tuples are written within parenthesis \"( )\". <b>tuple()</b> function is also used to declare a tuple. Elements in tuples are arranged in order.\n",
    "</div>\n",
    "\n",
    "<br>\n",
    "<img src = \"https://files.realpython.com/media/Clean-Up-Your-Python-Code-With-namedtuple_Watermarked.0ab0ddbda383.jpg\" width = 600 />\n",
    "<br>\n",
    "<center><str><a target=\"_blank\" href=\"https://files.realpython.com/media/Clean-Up-Your-Python-Code-With-namedtuple_Watermarked.0ab0ddbda383.jpg\">Image Source</a></str></center>\n",
    "<br>\n",
    "\n",
    "Following are some examples:"
   ]
  },
  {
   "cell_type": "code",
   "execution_count": 83,
   "id": "8d865920",
   "metadata": {},
   "outputs": [
    {
     "name": "stdout",
     "output_type": "stream",
     "text": [
      "('Ali', 'Hamza', 'Alex')\n",
      "<class 'tuple'>\n",
      "3\n",
      "('Ali', 'Hamza', 'Alex', [1, 3, 5, 7])\n",
      "4\n"
     ]
    }
   ],
   "source": [
    "names = (\"Ali\", \"Hamza\", \"Alex\")\n",
    "print(names)\n",
    "print(type(names))\n",
    "print(len(names)) # tuples also have a len() function\n",
    "\n",
    "names = (\"Ali\", \"Hamza\", \"Alex\", [1, 3, 5, 7])\n",
    "print(names)\n",
    "print(len(names))"
   ]
  },
  {
   "cell_type": "markdown",
   "id": "247a3e9c",
   "metadata": {},
   "source": [
    "#### Accessing and slicing values in Tuples\n",
    "\n",
    "<div class=\"alert alert-block alert-info\">\n",
    "We can use the name square brackets to access and slice values in tuples.\n",
    "</div>\n",
    "\n",
    "Let's see some examples:"
   ]
  },
  {
   "cell_type": "code",
   "execution_count": 84,
   "id": "3668cee5",
   "metadata": {},
   "outputs": [
    {
     "name": "stdout",
     "output_type": "stream",
     "text": [
      "names[0]:  Ali\n",
      "names[-1]:  [1, 3, 5, 7]\n",
      "names[:3]:  ('Ali', 'Hamza', 'Alex')\n",
      "names[-1][2]:  5\n"
     ]
    }
   ],
   "source": [
    "names = (\"Ali\", \"Hamza\", \"Alex\", [1, 3, 5, 7])\n",
    "\n",
    "print(\"names[0]: \", names[0])\n",
    "print(\"names[-1]: \", names[-1])\n",
    "print(\"names[:3]: \", names[:3])\n",
    "print(\"names[-1][2]: \", names[-1][2])"
   ]
  },
  {
   "cell_type": "markdown",
   "id": "fc2d41d2",
   "metadata": {},
   "source": [
    "#### Updating Tuples\n",
    "\n",
    "<div class=\"alert alert-block alert-info\">\n",
    "As discussed earlier tuples are immutable data type, but we can add two tuples to create a new tuple\n",
    "</div>\n",
    "\n",
    "Let's have some examples:"
   ]
  },
  {
   "cell_type": "code",
   "execution_count": 85,
   "id": "a272bfb9",
   "metadata": {},
   "outputs": [
    {
     "name": "stdout",
     "output_type": "stream",
     "text": [
      "('Neymar', 'Ronaldo', 'Messi', 'Beckham', 'Inesta')\n"
     ]
    }
   ],
   "source": [
    "tup1 = (\"Neymar\", \"Ronaldo\", \"Messi\")\n",
    "tup2 = (\"Beckham\", \"Inesta\")\n",
    "\n",
    "tup3 = tup1 + tup2\n",
    "print(tup3)"
   ]
  },
  {
   "cell_type": "markdown",
   "id": "30b30353",
   "metadata": {},
   "source": [
    "#### Deleting Tuples\n",
    "\n",
    "<div class=\"alert alert-block alert-warning\">\n",
    "As Tuples are immutable data type so their elements can't be deleted. But we can delete an entire tuple by deleting the variable that stores the tuple by using <b>del</b> statement.</div>\n",
    "\n",
    "Following are some examples:"
   ]
  },
  {
   "cell_type": "code",
   "execution_count": 15,
   "id": "8bb9d540",
   "metadata": {},
   "outputs": [
    {
     "ename": "TypeError",
     "evalue": "'tuple' object doesn't support item deletion",
     "output_type": "error",
     "traceback": [
      "\u001b[1;31m---------------------------------------------------------------------------\u001b[0m",
      "\u001b[1;31mTypeError\u001b[0m                                 Traceback (most recent call last)",
      "Input \u001b[1;32mIn [15]\u001b[0m, in \u001b[0;36m<cell line: 3>\u001b[1;34m()\u001b[0m\n\u001b[0;32m      1\u001b[0m tup1 \u001b[38;5;241m=\u001b[39m (\u001b[38;5;124m\"\u001b[39m\u001b[38;5;124mNeymar\u001b[39m\u001b[38;5;124m\"\u001b[39m, \u001b[38;5;124m\"\u001b[39m\u001b[38;5;124mRonaldo\u001b[39m\u001b[38;5;124m\"\u001b[39m, \u001b[38;5;124m\"\u001b[39m\u001b[38;5;124mMessi\u001b[39m\u001b[38;5;124m\"\u001b[39m)\n\u001b[1;32m----> 3\u001b[0m \u001b[38;5;28;01mdel\u001b[39;00m tup1[\u001b[38;5;241m0\u001b[39m]\n",
      "\u001b[1;31mTypeError\u001b[0m: 'tuple' object doesn't support item deletion"
     ]
    }
   ],
   "source": [
    "tup1 = (\"Neymar\", \"Ronaldo\", \"Messi\")\n",
    "\n",
    "del tup1[0] # gives an error as we can't delete an individual element from a tuple"
   ]
  },
  {
   "cell_type": "code",
   "execution_count": 103,
   "id": "beca9c2a",
   "metadata": {},
   "outputs": [
    {
     "ename": "NameError",
     "evalue": "name 'tup1' is not defined",
     "output_type": "error",
     "traceback": [
      "\u001b[1;31m---------------------------------------------------------------------------\u001b[0m",
      "\u001b[1;31mNameError\u001b[0m                                 Traceback (most recent call last)",
      "Input \u001b[1;32mIn [103]\u001b[0m, in \u001b[0;36m<cell line: 4>\u001b[1;34m()\u001b[0m\n\u001b[0;32m      1\u001b[0m tup1 \u001b[38;5;241m=\u001b[39m (\u001b[38;5;124m\"\u001b[39m\u001b[38;5;124mNeymar\u001b[39m\u001b[38;5;124m\"\u001b[39m, \u001b[38;5;124m\"\u001b[39m\u001b[38;5;124mRonaldo\u001b[39m\u001b[38;5;124m\"\u001b[39m, \u001b[38;5;124m\"\u001b[39m\u001b[38;5;124mMessi\u001b[39m\u001b[38;5;124m\"\u001b[39m)\n\u001b[0;32m      3\u001b[0m \u001b[38;5;28;01mdel\u001b[39;00m tup1\n\u001b[1;32m----> 4\u001b[0m \u001b[38;5;28mprint\u001b[39m(\u001b[43mtup1\u001b[49m)\n",
      "\u001b[1;31mNameError\u001b[0m: name 'tup1' is not defined"
     ]
    }
   ],
   "source": [
    "tup1 = (\"Neymar\", \"Ronaldo\", \"Messi\")\n",
    "\n",
    "del tup1\n",
    "print(tup1) # gives an error as tup1 variable is deleted"
   ]
  },
  {
   "cell_type": "markdown",
   "id": "85cdd87e",
   "metadata": {},
   "source": [
    "[Move to Table of Contents](#0.)"
   ]
  },
  {
   "cell_type": "markdown",
   "id": "119a37e7",
   "metadata": {},
   "source": [
    "<a id = \"2.7\"></a>\n",
    "### 2.7 Sets\n",
    "\n",
    "<div class=\"alert alert-block alert-info\">\n",
    "Sets are another mutable data type in python. Elements in sets are unordered but unique, means they can't be duplicated. \n",
    "We can define a set by using curly brackets \"{ }\" or by using <b>set()</b> function.</div>\n",
    "\n",
    "<br>\n",
    "<img src = \"https://files.realpython.com/media/Sets-in-Python_Watermarked.cd8d2e9563c3.jpg\" width = 600/>\n",
    "<br>\n",
    "<center><str><a target=\"_blank\" href=\"https://files.realpython.com/media/Sets-in-Python_Watermarked.cd8d2e9563c3.jpg\">Image Source</a></str></center>\n",
    "<br>\n",
    "\n",
    "Following are some examples:"
   ]
  },
  {
   "cell_type": "code",
   "execution_count": 112,
   "id": "f703b4b5",
   "metadata": {},
   "outputs": [
    {
     "name": "stdout",
     "output_type": "stream",
     "text": [
      "{'a', 'Apple', 2, 'Milk'}\n",
      "<class 'set'>\n"
     ]
    }
   ],
   "source": [
    "my_set = {\"Apple\", \"Milk\", 2, 'a'}\n",
    "print(my_set)\n",
    "print(type(my_set))"
   ]
  },
  {
   "cell_type": "markdown",
   "id": "c6d7ed2a",
   "metadata": {},
   "source": [
    "#### Updating Sets\n",
    "\n",
    "<div class=\"alert alert-block alert-info\">\n",
    "As sets are unordered and their elements don't have any index so we can't access elements from a set. But we can add elements into a set by using <b>add()</b> method. <b>update()</b> method is also used to add list, tuples, strings and other sets in a set.</div>\n",
    "\n",
    "Examples:"
   ]
  },
  {
   "cell_type": "code",
   "execution_count": 123,
   "id": "c829d5ee",
   "metadata": {},
   "outputs": [
    {
     "name": "stdout",
     "output_type": "stream",
     "text": [
      "{'a', 'Apple', 2, 'Milk', 'Adam'}\n",
      "{'a', 'Apple', 2, 'Milk', 'Cricket', 'Football'}\n",
      "{'a', 'Apple', 2, 'Milk', 'i', 'H'}\n",
      "{0, 1, 2, 3, 4, 5, 6, 7}\n"
     ]
    }
   ],
   "source": [
    "my_set = {\"Apple\", \"Milk\", 2, 'a'}\n",
    "my_set.add(\"Adam\")\n",
    "print(my_set)\n",
    "\n",
    "my_set = {\"Apple\", \"Milk\", 2, 'a'}\n",
    "my_list = [\"Cricket\", \"Football\"]\n",
    "my_set.update(my_list)\n",
    "print(my_set)\n",
    "\n",
    "my_set = {\"Apple\", \"Milk\", 2, 'a'}\n",
    "my_str = \"Hi\"\n",
    "my_set.update(my_str) # elements in set are unordered\n",
    "print(my_set)\n",
    "\n",
    "set1 = {0, 1, 2, 3}\n",
    "set2 = {4, 5, 6, 7}\n",
    "set1.update(set2)\n",
    "print(set1)"
   ]
  },
  {
   "cell_type": "markdown",
   "id": "0beae8e4",
   "metadata": {},
   "source": [
    "#### Deleting elements from Sets\n",
    "\n",
    "<div class=\"alert alert-block alert-warning\">\n",
    "We can delete elements from a set by using <b>discard()</b> and <b>remove()</b> methods. But the element we want to remove is not in set then <b>discard()</b> will not throw an error but <b>remove()</b> will do.\n",
    "</div>\n",
    "\n",
    "Let's have some examples:"
   ]
  },
  {
   "cell_type": "code",
   "execution_count": 128,
   "id": "bc5636f5",
   "metadata": {},
   "outputs": [
    {
     "name": "stdout",
     "output_type": "stream",
     "text": [
      "{'a', 2, 'Milk'}\n",
      "{'Apple', 2, 'Milk'}\n"
     ]
    }
   ],
   "source": [
    "my_set = {\"Apple\", \"Milk\", 2, 'a'}\n",
    "my_set.discard(\"Apple\")\n",
    "print(my_set)\n",
    "\n",
    "my_set = {\"Apple\", \"Milk\", 2, 'a'}\n",
    "my_set.remove(\"a\")\n",
    "print(my_set)"
   ]
  },
  {
   "cell_type": "code",
   "execution_count": 130,
   "id": "0501106b",
   "metadata": {},
   "outputs": [
    {
     "name": "stdout",
     "output_type": "stream",
     "text": [
      "{'a', 'Apple', 2, 'Milk'}\n"
     ]
    }
   ],
   "source": [
    "my_set = {\"Apple\", \"Milk\", 2, 'a'} \n",
    "my_set.discard(\"Banana\") # \"banana\" is not in set my_set but discard() method will not give an error"
   ]
  },
  {
   "cell_type": "code",
   "execution_count": 132,
   "id": "b346fb1a",
   "metadata": {},
   "outputs": [
    {
     "ename": "KeyError",
     "evalue": "'Banana'",
     "output_type": "error",
     "traceback": [
      "\u001b[1;31m---------------------------------------------------------------------------\u001b[0m",
      "\u001b[1;31mKeyError\u001b[0m                                  Traceback (most recent call last)",
      "Input \u001b[1;32mIn [132]\u001b[0m, in \u001b[0;36m<cell line: 2>\u001b[1;34m()\u001b[0m\n\u001b[0;32m      1\u001b[0m my_set \u001b[38;5;241m=\u001b[39m {\u001b[38;5;124m\"\u001b[39m\u001b[38;5;124mApple\u001b[39m\u001b[38;5;124m\"\u001b[39m, \u001b[38;5;124m\"\u001b[39m\u001b[38;5;124mMilk\u001b[39m\u001b[38;5;124m\"\u001b[39m, \u001b[38;5;241m2\u001b[39m, \u001b[38;5;124m'\u001b[39m\u001b[38;5;124ma\u001b[39m\u001b[38;5;124m'\u001b[39m}\n\u001b[1;32m----> 2\u001b[0m \u001b[43mmy_set\u001b[49m\u001b[38;5;241;43m.\u001b[39;49m\u001b[43mremove\u001b[49m\u001b[43m(\u001b[49m\u001b[38;5;124;43m\"\u001b[39;49m\u001b[38;5;124;43mBanana\u001b[39;49m\u001b[38;5;124;43m\"\u001b[39;49m\u001b[43m)\u001b[49m\n",
      "\u001b[1;31mKeyError\u001b[0m: 'Banana'"
     ]
    }
   ],
   "source": [
    "my_set = {\"Apple\", \"Milk\", 2, 'a'}\n",
    "my_set.remove(\"Banana\") # \"banana\" is not in set my_set but remove() method will give an error"
   ]
  },
  {
   "cell_type": "markdown",
   "id": "d6026751",
   "metadata": {},
   "source": [
    "[Move to Table of Contents](#0.)"
   ]
  },
  {
   "cell_type": "markdown",
   "id": "fe6530a0",
   "metadata": {},
   "source": [
    "<a id = \"3.\"></a>\n",
    "# 3. Comparison Operators\n",
    "\n",
    "<img src = \"https://files.realpython.com/media/Operators-and-Expressions-in-Python_Watermarked.651045da4031.jpg\" width = 600 />\n",
    "<br>\n",
    "<center><str><a target=\"_blank\" href=\"https://files.realpython.com/media/Operators-and-Expressions-in-Python_Watermarked.651045da4031.jpg\">Image Source</a></str></center>\n",
    "<br>\n",
    "\n",
    "Following are some comparison operators used in python:"
   ]
  },
  {
   "cell_type": "code",
   "execution_count": 133,
   "id": "930e2056",
   "metadata": {},
   "outputs": [
    {
     "data": {
      "text/plain": [
       "False"
      ]
     },
     "execution_count": 133,
     "metadata": {},
     "output_type": "execute_result"
    }
   ],
   "source": [
    "1 == 2"
   ]
  },
  {
   "cell_type": "code",
   "execution_count": 134,
   "id": "da27f828",
   "metadata": {},
   "outputs": [
    {
     "data": {
      "text/plain": [
       "True"
      ]
     },
     "execution_count": 134,
     "metadata": {},
     "output_type": "execute_result"
    }
   ],
   "source": [
    "1 == 1"
   ]
  },
  {
   "cell_type": "code",
   "execution_count": 135,
   "id": "c5ff3fb1",
   "metadata": {},
   "outputs": [
    {
     "data": {
      "text/plain": [
       "False"
      ]
     },
     "execution_count": 135,
     "metadata": {},
     "output_type": "execute_result"
    }
   ],
   "source": [
    "1 > 2"
   ]
  },
  {
   "cell_type": "code",
   "execution_count": 136,
   "id": "4fa2ccd2",
   "metadata": {},
   "outputs": [
    {
     "data": {
      "text/plain": [
       "True"
      ]
     },
     "execution_count": 136,
     "metadata": {},
     "output_type": "execute_result"
    }
   ],
   "source": [
    "2 < 4"
   ]
  },
  {
   "cell_type": "code",
   "execution_count": 137,
   "id": "2718f09a",
   "metadata": {},
   "outputs": [
    {
     "data": {
      "text/plain": [
       "True"
      ]
     },
     "execution_count": 137,
     "metadata": {},
     "output_type": "execute_result"
    }
   ],
   "source": [
    "3 >= 3"
   ]
  },
  {
   "cell_type": "code",
   "execution_count": 138,
   "id": "43eac805",
   "metadata": {},
   "outputs": [
    {
     "data": {
      "text/plain": [
       "False"
      ]
     },
     "execution_count": 138,
     "metadata": {},
     "output_type": "execute_result"
    }
   ],
   "source": [
    "3 > 3"
   ]
  },
  {
   "cell_type": "code",
   "execution_count": 147,
   "id": "426e89ef",
   "metadata": {},
   "outputs": [
    {
     "data": {
      "text/plain": [
       "True"
      ]
     },
     "execution_count": 147,
     "metadata": {},
     "output_type": "execute_result"
    }
   ],
   "source": [
    "4 != 3"
   ]
  },
  {
   "cell_type": "code",
   "execution_count": 139,
   "id": "d8aa051f",
   "metadata": {},
   "outputs": [
    {
     "data": {
      "text/plain": [
       "True"
      ]
     },
     "execution_count": 139,
     "metadata": {},
     "output_type": "execute_result"
    }
   ],
   "source": [
    "\"Ali\" == \"Ali\""
   ]
  },
  {
   "cell_type": "code",
   "execution_count": 140,
   "id": "801c49b9",
   "metadata": {},
   "outputs": [
    {
     "data": {
      "text/plain": [
       "False"
      ]
     },
     "execution_count": 140,
     "metadata": {},
     "output_type": "execute_result"
    }
   ],
   "source": [
    "\"Ali\" > \"Ali\""
   ]
  },
  {
   "cell_type": "code",
   "execution_count": 141,
   "id": "9f882836",
   "metadata": {},
   "outputs": [
    {
     "data": {
      "text/plain": [
       "False"
      ]
     },
     "execution_count": 141,
     "metadata": {},
     "output_type": "execute_result"
    }
   ],
   "source": [
    "\"Ali\" > \"Zaid\""
   ]
  },
  {
   "cell_type": "code",
   "execution_count": 142,
   "id": "f1a6ef59",
   "metadata": {},
   "outputs": [
    {
     "data": {
      "text/plain": [
       "True"
      ]
     },
     "execution_count": 142,
     "metadata": {},
     "output_type": "execute_result"
    }
   ],
   "source": [
    "\"Zaid\" > \"Ali\" "
   ]
  },
  {
   "cell_type": "code",
   "execution_count": 149,
   "id": "1b6514d3",
   "metadata": {},
   "outputs": [
    {
     "data": {
      "text/plain": [
       "False"
      ]
     },
     "execution_count": 149,
     "metadata": {},
     "output_type": "execute_result"
    }
   ],
   "source": [
    "(1 > 2) and (2 > 1)"
   ]
  },
  {
   "cell_type": "code",
   "execution_count": 150,
   "id": "4a0e3e7f",
   "metadata": {},
   "outputs": [
    {
     "data": {
      "text/plain": [
       "True"
      ]
     },
     "execution_count": 150,
     "metadata": {},
     "output_type": "execute_result"
    }
   ],
   "source": [
    "(1 > 2) or (2 > 1)"
   ]
  },
  {
   "cell_type": "markdown",
   "id": "abd3b448",
   "metadata": {},
   "source": [
    "[Move to Table of Contents](#0.)"
   ]
  },
  {
   "cell_type": "markdown",
   "id": "2422169f",
   "metadata": {},
   "source": [
    "<a id = \"4.\"></a>\n",
    "\n",
    "# 4. If-Else or Conditional Statements\n",
    "\n",
    "<div class=\"alert alert-block alert-info\">\n",
    "If-Else or conditional statements are used to execute a block of code depending on some conditions. If a condition is True then the code inside <b>if</b> statement will be executed otherwise code inside <b>else</b> statement code block. There is another statement called <b>elif</b> (short for else if) statement which is used to execute a continuous chain of conditional logic ladder.\n",
    "</div>\n",
    "\n",
    "<br>\n",
    "<img src = \"https://files.realpython.com/media/Conditional-Statements-in-Python_Watermarked.b6b7d30ff62b.jpg\" width = 600 />\n",
    "<br>\n",
    "<center><str><a target=\"_blank\" href=\"https://files.realpython.com/media/Conditional-Statements-in-Python_Watermarked.b6b7d30ff62b.jpg\">Image Source</a></str></center>\n",
    "<br>\n",
    "\n",
    "<img src = \"https://static.javatpoint.com/phppages/images/if2.png\" width = 250/>\n",
    "\n",
    "<center><str><a target=\"_blank\" href=\"https://static.javatpoint.com/phppages/images/if2.png\">Image Source</a></str></center>\n",
    "<br>\n",
    "\n",
    "Following are some examples:"
   ]
  },
  {
   "cell_type": "code",
   "execution_count": 4,
   "id": "f6ab5be3",
   "metadata": {},
   "outputs": [
    {
     "name": "stdout",
     "output_type": "stream",
     "text": [
      "Can Drive!\n",
      "Can'take admission!\n"
     ]
    }
   ],
   "source": [
    "age = 20\n",
    "\n",
    "if age > 18: # True\n",
    "    print(\"Can Drive!\")\n",
    "else:\n",
    "    print(\"Can't Drive!\")\n",
    "    \n",
    "grades = 2.9\n",
    "if grades > 3.0: # False\n",
    "    print(\"Can take admission!\")\n",
    "else:\n",
    "    print(\"Can'take admission!\")"
   ]
  },
  {
   "cell_type": "code",
   "execution_count": 12,
   "id": "108ab9c7",
   "metadata": {},
   "outputs": [
    {
     "name": "stdout",
     "output_type": "stream",
     "text": [
      "Can't take admission!\n"
     ]
    }
   ],
   "source": [
    "test_score = 10\n",
    "grades = 3.0\n",
    "athelete = False\n",
    "\n",
    "if (test_score >= 50) and (grades >= 3.0):\n",
    "    print(\"Can take admission!\")\n",
    "elif (grades >= 3.5) or (athelete == True):\n",
    "    print(\"Can take admission as an athelete!\")\n",
    "else:\n",
    "    print(\"Can't take admission!\")"
   ]
  },
  {
   "cell_type": "markdown",
   "id": "ea44bdf8",
   "metadata": {},
   "source": [
    "[Move to Table of Contents](#0.)"
   ]
  },
  {
   "cell_type": "markdown",
   "id": "0510c176",
   "metadata": {},
   "source": [
    "<a id = \"5.\"></a>\n",
    "\n",
    "# 5. For and While loops\n",
    "\n",
    "<div class=\"alert alert-block alert-info\">\n",
    "    There are two types of loops in python, <b>for</b> and <b>while</b> loops. Loops are used when we want to execute a block of code multiple times. We can iterate through lists, tuples & dictionaries using a <b>for</b> loop. We can also use <b>range()</b> function to iterate through some range.\n",
    "</div>\n",
    "\n",
    "<br>\n",
    "<img src = \"https://files.realpython.com/media/Python-for-Loops-Definite-Iteration_Watermarked.9c0d36b6de30.jpg\" width = 600 />\n",
    "<br>\n",
    "<center><str><a target=\"_blank\" href=\"https://files.realpython.com/media/Python-for-Loops-Definite-Iteration_Watermarked.9c0d36b6de30.jpg\">Image Source</a></str></center>\n",
    "<br>\n",
    "\n",
    "Let's see some examples:"
   ]
  },
  {
   "cell_type": "code",
   "execution_count": 13,
   "id": "7af99559",
   "metadata": {},
   "outputs": [
    {
     "name": "stdout",
     "output_type": "stream",
     "text": [
      "apple\n",
      "banana\n",
      "orange\n",
      "mango\n",
      "grapes\n"
     ]
    }
   ],
   "source": [
    "fruits = [\"apple\", \"banana\", \"orange\", \"mango\", \"grapes\"]\n",
    "for i in fruits: # for first iteration, the value of i will be index value of \"apple\" which is 0 and it will be incremented with each iteration\n",
    "    print(i)"
   ]
  },
  {
   "cell_type": "code",
   "execution_count": 15,
   "id": "68f266c9",
   "metadata": {},
   "outputs": [
    {
     "name": "stdout",
     "output_type": "stream",
     "text": [
      "0\n",
      "1\n",
      "2\n",
      "3\n",
      "4\n"
     ]
    }
   ],
   "source": [
    "for i in range(5): # here for loop will iterate from 0 to n - 1 (means 5 - 1)\n",
    "    print(i)"
   ]
  },
  {
   "cell_type": "code",
   "execution_count": 16,
   "id": "1ccd80d6",
   "metadata": {},
   "outputs": [
    {
     "name": "stdout",
     "output_type": "stream",
     "text": [
      "3\n",
      "4\n",
      "5\n",
      "6\n",
      "7\n"
     ]
    }
   ],
   "source": [
    "for i in range(3, 8): # here for loop will iterate from 3 to (8 - 1)\n",
    "    print(i)"
   ]
  },
  {
   "cell_type": "code",
   "execution_count": 18,
   "id": "3f14a081",
   "metadata": {},
   "outputs": [
    {
     "name": "stdout",
     "output_type": "stream",
     "text": [
      "3\n",
      "5\n",
      "7\n",
      "9\n",
      "11\n",
      "13\n"
     ]
    }
   ],
   "source": [
    "# by default range() function iterates through 1 step but if we specify the third argument, say n, then it will take n steps.\n",
    "for i in range(3, 15, 2):\n",
    "    print(i)"
   ]
  },
  {
   "cell_type": "markdown",
   "id": "f308c2bf",
   "metadata": {},
   "source": [
    "<img src = \"https://files.realpython.com/media/Python-while-Loops-Indefinite-Iteration_Watermarked.2dfa40d8e92c.jpg\" width = 600 />\n",
    "<br>\n",
    "<center><str><a target=\"_blank\" href=\"https://files.realpython.com/media/Python-while-Loops-Indefinite-Iteration_Watermarked.2dfa40d8e92c.jpg\">Image Source</a></str></center>\n",
    "<br>"
   ]
  },
  {
   "cell_type": "code",
   "execution_count": 26,
   "id": "62971bad",
   "metadata": {},
   "outputs": [
    {
     "name": "stdout",
     "output_type": "stream",
     "text": [
      "0\n",
      "1\n",
      "2\n",
      "3\n",
      "4\n",
      "5\n",
      "6\n",
      "7\n",
      "8\n",
      "9\n"
     ]
    }
   ],
   "source": [
    "num = 0\n",
    "while (num < 10):\n",
    "    print(num)\n",
    "    num = num + 1 # here we are incrementing num by 1 at the end of each iteration"
   ]
  },
  {
   "cell_type": "code",
   "execution_count": 4,
   "id": "c1d9e59d",
   "metadata": {},
   "outputs": [
    {
     "name": "stdout",
     "output_type": "stream",
     "text": [
      "key: 0\n",
      "value: name\n",
      "key: 1\n",
      "value: age\n",
      "key: 2\n",
      "value: books\n",
      "key: 3\n",
      "value: 100\n"
     ]
    }
   ],
   "source": [
    "# We can also access the items in a dictionary by enumerate() method\n",
    "student = {\"name\" : \"Zeeshan\",\n",
    "          \"age\" : 22,\n",
    "          \"books\" : [\"Math\", \"Physics\"],\n",
    "          100 : 3}\n",
    "\n",
    "for key, value in enumerate(student):\n",
    "    print(\"key:\", key)\n",
    "    print(\"value:\", value)"
   ]
  },
  {
   "cell_type": "markdown",
   "id": "f2e4eea9",
   "metadata": {},
   "source": [
    "[Move to Table of Contents](#0.)"
   ]
  },
  {
   "cell_type": "markdown",
   "id": "c7c03e68",
   "metadata": {},
   "source": [
    "<a id = \"6.\"></a>\n",
    "\n",
    "# 6. Functions\n",
    "\n",
    "<div class=\"alert alert-block alert-info\">\n",
    "Sometimes we need to do the same task in our code again and again. So instead of writing the same code multiple times, we create a function. A function is a block of code that is only run when its is called. Without using functions, our program will become very lengthy. Functions helps us in creating a clean and modularized code. In python, we define function by using <b>def</b> statement. A function may or may not <b>return</b> something, according to our requirements. We can also give some parameters into\n",
    "function's definiton.\n",
    "</div>\n",
    "\n",
    "<br>\n",
    "<img src = \"https://files.realpython.com/media/How-to-Create-Python-Functions-with-Optional-Arguments_Watermarked.f2c8b582aff0.jpg\" width = 600 />\n",
    "<br>\n",
    "<center><str><a target=\"_blank\" href=\"https://files.realpython.com/media/How-to-Create-Python-Functions-with-Optional-Arguments_Watermarked.f2c8b582aff0.jpg\">Image Source</a></str></center>\n",
    "<br>\n",
    "\n",
    "<br>\n",
    "<img src = \"https://bham-carpentries.github.io/2018-12-17-bham_python-novice-inflammation/fig/python-function.svg\" width = 500 />\n",
    "<br>\n",
    "<center><str><a target=\"_blank\" href=\"https://bham-carpentries.github.io/2018-12-17-bham_python-novice-inflammation/fig/python-function.svg\">Image Source</a></str></center>\n",
    "<br>\n",
    "\n",
    "\n",
    "Let's have some examples:"
   ]
  },
  {
   "cell_type": "code",
   "execution_count": 2,
   "id": "7aecccf4",
   "metadata": {},
   "outputs": [
    {
     "name": "stdout",
     "output_type": "stream",
     "text": [
      "9\n"
     ]
    }
   ],
   "source": [
    "def add(a, b): # sum() function definition\n",
    "    result = a + b\n",
    "    return result # here the sum() function is returning something\n",
    "\n",
    "my_func = add(3, 6)\n",
    "print(my_func)"
   ]
  },
  {
   "cell_type": "code",
   "execution_count": 9,
   "id": "34bedb24",
   "metadata": {},
   "outputs": [
    {
     "name": "stdout",
     "output_type": "stream",
     "text": [
      "Hello User!\n",
      "Hello User!\n",
      "None\n"
     ]
    }
   ],
   "source": [
    "# in this function we will not specify any parameters and greeting() function will return None.\n",
    "def greeting():\n",
    "    print(\"Hello User!\")\n",
    "    \n",
    "greeting() # here printing only \"Hello User!\"\n",
    "\n",
    "hi = greeting() # here gretting will not only print() but also return None, which will be stored in variable \"hi\"\n",
    "print(hi)"
   ]
  },
  {
   "cell_type": "code",
   "execution_count": 11,
   "id": "40c7b53c",
   "metadata": {},
   "outputs": [
    {
     "name": "stdout",
     "output_type": "stream",
     "text": [
      "Hi Zeeshan! Your room number is 7.\n"
     ]
    }
   ],
   "source": [
    "user = \"Zeeshan\"\n",
    "room = 7\n",
    "\n",
    "def nice_formatting():\n",
    "    print(f\"Hi {user}! Your room number is {room}.\")\n",
    "    \n",
    "nice_formatting()"
   ]
  },
  {
   "cell_type": "markdown",
   "id": "e0646238",
   "metadata": {},
   "source": [
    "### Chaging data types with built-in functions\n",
    "\n",
    "<div class=\"alert alert-block alert-info\">\n",
    "In python, there are some specific functions that change the data type of its arguments. And there are also boolean values i.e True and False in python. If we pass True to the <b>int()</b> function it will return 1 and if False is passed as an argument then <b>int()</b> will return 0.\n",
    "</div>\n",
    "\n",
    "Let's see some examples:"
   ]
  },
  {
   "cell_type": "code",
   "execution_count": 1,
   "id": "d3bb14e0",
   "metadata": {},
   "outputs": [
    {
     "name": "stdout",
     "output_type": "stream",
     "text": [
      "Before conversion: \n",
      "type(a):  <class 'int'>\n",
      "type(b):  <class 'float'>\n",
      "type(c):  <class 'str'>\n",
      "type(d):  <class 'bool'>\n",
      "type(e):  <class 'bool'>\n",
      "\n",
      "After conversion: \n",
      "type(a):  <class 'float'>\n",
      "type(b):  <class 'int'>\n",
      "type(c):  <class 'int'>\n",
      "type(d):  <class 'int'>\n",
      "type(e):  <class 'int'>\n"
     ]
    }
   ],
   "source": [
    "a = 3\n",
    "b = 2.0\n",
    "c = \"60\"\n",
    "d = True\n",
    "e = False\n",
    "\n",
    "print(\"Before conversion: \")\n",
    "print(\"type(a): \", type(a))\n",
    "print(\"type(b): \", type(b))\n",
    "print(\"type(c): \", type(c))\n",
    "print(\"type(d): \", type(d))\n",
    "print(\"type(e): \", type(e))\n",
    "\n",
    "a = float(a)\n",
    "b = int(b)\n",
    "c = int(c)\n",
    "d = int(d)\n",
    "e = int(e)\n",
    "print()\n",
    "print(\"After conversion: \")\n",
    "print(\"type(a): \", type(a))\n",
    "print(\"type(b): \", type(b))\n",
    "print(\"type(c): \", type(c))\n",
    "print(\"type(d): \", type(d))\n",
    "print(\"type(e): \", type(e))"
   ]
  },
  {
   "cell_type": "markdown",
   "id": "747f9b20",
   "metadata": {},
   "source": [
    "[Move to Table of Contents](#0.)"
   ]
  },
  {
   "cell_type": "markdown",
   "id": "da2779ce",
   "metadata": {},
   "source": [
    "<a id = \"7.\"></a>\n",
    "\n",
    "# 7. Lambda Functions\n",
    "\n",
    "<div class=\"alert alert-block alert-info\">\n",
    "In python, there are some small functions that are defined without any name. These are called anonymous or lambda functions. A lambda function is defined by <b>lambda</b> keyword.\n",
    "</div>\n",
    "\n",
    "\n",
    "<br>\n",
    "<img src = \"https://files.realpython.com/media/How-to-Use-Python-Lambda-Functions_Watermarked.2afa4f5ea5d4.jpg\" width = 600 />\n",
    "<br>\n",
    "<center><str><a target=\"_blank\" href=\"https://files.realpython.com/media/How-to-Use-Python-Lambda-Functions_Watermarked.2afa4f5ea5d4.jpg\">Image Source</a></str></center>\n",
    "<br>\n",
    "\n",
    "Let's have some examples:"
   ]
  },
  {
   "cell_type": "code",
   "execution_count": 12,
   "id": "9d262d96",
   "metadata": {},
   "outputs": [
    {
     "name": "stdout",
     "output_type": "stream",
     "text": [
      "8\n"
     ]
    }
   ],
   "source": [
    "cube = lambda x : x ** 3\n",
    "\n",
    "print(cube(2))"
   ]
  },
  {
   "cell_type": "code",
   "execution_count": 15,
   "id": "7bd77c03",
   "metadata": {},
   "outputs": [
    {
     "name": "stdout",
     "output_type": "stream",
     "text": [
      "50\n"
     ]
    }
   ],
   "source": [
    "multiplier = lambda a, b : a * b\n",
    "\n",
    "print(multiplier(5, 10))"
   ]
  },
  {
   "cell_type": "markdown",
   "id": "8fe6a8fa",
   "metadata": {},
   "source": [
    "[Move to Table of Contents](#0.)"
   ]
  },
  {
   "cell_type": "markdown",
   "id": "95046eae",
   "metadata": {},
   "source": [
    "<a id = \"7.1\"></a>\n",
    "\n",
    "## 7.1 Map() Function\n",
    "\n",
    "<div class=\"alert alert-block alert-info\">\n",
    "    <b>map()</b> function is used to apply another function on an iterable i.e lists, tuples etc. It takes two arguments, a function to apply and an iterable.\n",
    "</div>\n",
    "\n",
    "\n",
    "<br>\n",
    "<img src = \"https://files.realpython.com/media/The-Python-map-Function-Guide_Watermarked.2b0943edf4b8.jpg\" width = 600 />\n",
    "<br>\n",
    "<center><str><a target=\"_blank\" href=\"https://files.realpython.com/media/The-Python-map-Function-Guide_Watermarked.2b0943edf4b8.jpg\">Image Source</a></str></center>\n",
    "<br>\n",
    "\n",
    "Let's see some examples:"
   ]
  },
  {
   "cell_type": "code",
   "execution_count": 28,
   "id": "7dd60866",
   "metadata": {},
   "outputs": [
    {
     "name": "stdout",
     "output_type": "stream",
     "text": [
      "[2, 4, 6, 8, 10]\n"
     ]
    }
   ],
   "source": [
    "my_num = [1, 2, 3, 4, 5]\n",
    "\n",
    "double_list = list(map(lambda x : x * 2, my_num))\n",
    "print(double_list)"
   ]
  },
  {
   "cell_type": "code",
   "execution_count": 32,
   "id": "1a3c204f",
   "metadata": {},
   "outputs": [
    {
     "name": "stdout",
     "output_type": "stream",
     "text": [
      "word_list:  ['Hi', 'I', 'love', 'Machine', 'Learning']\n",
      "word_length:  [2, 1, 4, 7, 8]\n"
     ]
    }
   ],
   "source": [
    "sentence = \"Hi I love Machine Learning\"\n",
    "word_list = sentence.split() # sentence.split() will split the string by spaces and then returns a list of words\n",
    "print(\"word_list: \", word_list)\n",
    "\n",
    "word_length = list(map(lambda word : len(word), word_list))\n",
    "print(\"word_length: \", word_length)"
   ]
  },
  {
   "cell_type": "markdown",
   "id": "1ea3603d",
   "metadata": {},
   "source": [
    "[Move to Table of Contents](#0.)"
   ]
  },
  {
   "cell_type": "markdown",
   "id": "ce22dc35",
   "metadata": {},
   "source": [
    "<a id = \"7.2\"></a>\n",
    "\n",
    "## 7.2 Filter() Function\n",
    "\n",
    "<div class=\"alert alert-block alert-info\">\n",
    "    <b>filter()</b> function is applied on an iterable and creats a new iterable which filters out elements based on the condition or function provided. In other words, <b>filter()</b> function extracts elements from an iterable for which the function passed to it as an argument returns True. Like <b>map()</b> function, it also takes two arguments, a function to apply and an iterable.\n",
    "</div>\n",
    "\n",
    "<br>\n",
    "<img src = \"https://files.realpython.com/media/How-to-Use-Pythons-filter__Watermarked.4234700cc1c3.jpg\" width = 600 />\n",
    "<br>\n",
    "<center><str><a target=\"_blank\" href=\"https://files.realpython.com/media/How-to-Use-Pythons-filter__Watermarked.4234700cc1c3.jpg\">Image Source</a></str></center>\n",
    "<br>\n",
    "\n",
    "Example:"
   ]
  },
  {
   "cell_type": "code",
   "execution_count": 12,
   "id": "46576ac3",
   "metadata": {},
   "outputs": [
    {
     "name": "stdout",
     "output_type": "stream",
     "text": [
      "[2, 4, 6, 8, 10]\n"
     ]
    }
   ],
   "source": [
    "num_list = [1, 2, 3, 4, 5, 6, 7, 8, 9, 10]\n",
    "\n",
    "result_list = list(filter(lambda x: (x % 2 == 0), num_list)) # it will create a new list containing only even integers\n",
    "print(result_list)"
   ]
  },
  {
   "cell_type": "code",
   "execution_count": 15,
   "id": "4852ffa5",
   "metadata": {},
   "outputs": [
    {
     "name": "stdout",
     "output_type": "stream",
     "text": [
      "[2, 2, 2, 2]\n"
     ]
    }
   ],
   "source": [
    "num_list = [2, 1, 3, 2, 4, 5, 2, 3, 2]\n",
    "\n",
    "result_list = list(filter(lambda x: (x == 2), num_list)) # extracts all 2 from num_list\n",
    "print(result_list)"
   ]
  },
  {
   "cell_type": "markdown",
   "id": "ef9f516c",
   "metadata": {},
   "source": [
    "[Move to Table of Contents](#0.)"
   ]
  },
  {
   "cell_type": "markdown",
   "id": "c3b63de7",
   "metadata": {},
   "source": [
    "<a id = \"8.\"></a>\n",
    "\n",
    "# 8. Input() Function\n",
    "\n",
    "<div class=\"alert alert-block alert-info\">\n",
    "    There's a built-in function <b>input()</b> in python to take input from the user. The <b>input()</b> function takes input as a string.\n",
    "</div>\n",
    "\n",
    "<br>\n",
    "<img src = \"https://files.realpython.com/media/Basic-Input-Output-and-String-Formatting-in-Python_Watermarked.65ba5b535841.jpg\" width = 600 />\n",
    "<br>\n",
    "<center><str><a target=\"_blank\" href=\"https://files.realpython.com/media/Basic-Input-Output-and-String-Formatting-in-Python_Watermarked.65ba5b535841.jpg\">Image Source</a></str></center>\n",
    "<br>\n",
    "\n",
    "Let's see some examples:"
   ]
  },
  {
   "cell_type": "code",
   "execution_count": 24,
   "id": "57f17506",
   "metadata": {},
   "outputs": [
    {
     "name": "stdout",
     "output_type": "stream",
     "text": [
      "Enter: 9\n",
      "9\n",
      "<class 'str'>\n"
     ]
    }
   ],
   "source": [
    "user = input(\"Enter: \")\n",
    "print(user)\n",
    "print(type(user))"
   ]
  },
  {
   "cell_type": "code",
   "execution_count": 25,
   "id": "f11bcb36",
   "metadata": {},
   "outputs": [
    {
     "name": "stdout",
     "output_type": "stream",
     "text": [
      "Enter a number: 56\n",
      "56\n",
      "<class 'int'>\n"
     ]
    }
   ],
   "source": [
    "# we can convert user input into any data type we want\n",
    "\n",
    "user = int(input(\"Enter a number: \"))\n",
    "print(user)\n",
    "print(type(user))"
   ]
  },
  {
   "cell_type": "markdown",
   "id": "8b07c0af",
   "metadata": {},
   "source": [
    "[Move to Table of Contents](#0.)"
   ]
  },
  {
   "cell_type": "markdown",
   "id": "88f56708",
   "metadata": {},
   "source": [
    "<a id = \"9.\"></a>\n",
    "\n",
    "# 9. File Handling in Python\n",
    "\n",
    "<div class=\"alert alert-block alert-info\">\n",
    "    In pyhton, we can handle files like open and do some operations like read, write and append. <b>open()</b> function is used to open file and we give file name as an argument and the mode with which we want to open file i.e <b>r</b> for read, <b>w</b> for write and <b>a</b> for append mode. After doing operations on the file it should be closed with <b>close()</b> method. There is another easiest way to open file with <b>with</b> statement where we don't need to close the file, <b>with</b> handles itself.\n",
    "</div>\n",
    "\n",
    "\n",
    "<img src = \"https://files.realpython.com/media/Practical-Recipes-for-Working-With-Multiple-Files-in-Python_Watermarked.4ff8c72dc712.jpg\" width = 600 />\n",
    "<br>\n",
    "<center><str><a target=\"_blank\" href=\"https://files.realpython.com/media/Practical-Recipes-for-Working-With-Multiple-Files-in-Python_Watermarked.4ff8c72dc712.jpg\">Image Source</a></str></center>\n",
    "<br>\n",
    "\n",
    "\n",
    "<div class=\"alert alert-block alert-warning\">\n",
    "    In write and append mode, if the file is not in the current directory then a new file will be created. Also in write mode if we write something in existing file with <b>file.write()</b> method then all the previous data will be replaced with the content written in <b>file.write()</b> function. <br>\n",
    "    <br>\n",
    "    In append mode, if we write something in existing file with <b>file.write()</b>, then it will append the content next to what was written before in file.\n",
    "</div>\n",
    "\n",
    "\n",
    "\n",
    "Let's have some examples:"
   ]
  },
  {
   "cell_type": "code",
   "execution_count": 25,
   "id": "00cbf8cd",
   "metadata": {},
   "outputs": [
    {
     "ename": "FileNotFoundError",
     "evalue": "[Errno 2] No such file or directory: 'my_file.txt'",
     "output_type": "error",
     "traceback": [
      "\u001b[1;31m---------------------------------------------------------------------------\u001b[0m",
      "\u001b[1;31mFileNotFoundError\u001b[0m                         Traceback (most recent call last)",
      "Input \u001b[1;32mIn [25]\u001b[0m, in \u001b[0;36m<cell line: 1>\u001b[1;34m()\u001b[0m\n\u001b[1;32m----> 1\u001b[0m my_file \u001b[38;5;241m=\u001b[39m \u001b[38;5;28;43mopen\u001b[39;49m\u001b[43m(\u001b[49m\u001b[38;5;124;43m\"\u001b[39;49m\u001b[38;5;124;43mmy_file.txt\u001b[39;49m\u001b[38;5;124;43m\"\u001b[39;49m\u001b[43m,\u001b[49m\u001b[43m \u001b[49m\u001b[38;5;124;43m\"\u001b[39;49m\u001b[38;5;124;43mr\u001b[39;49m\u001b[38;5;124;43m\"\u001b[39;49m\u001b[43m)\u001b[49m \u001b[38;5;66;03m# as my_file.txt is not in our current directory, opening it in read mode will throw an error\u001b[39;00m\n\u001b[0;32m      2\u001b[0m my_file\u001b[38;5;241m.\u001b[39mreadline()\n\u001b[0;32m      3\u001b[0m my_file\u001b[38;5;241m.\u001b[39mclose()\n",
      "\u001b[1;31mFileNotFoundError\u001b[0m: [Errno 2] No such file or directory: 'my_file.txt'"
     ]
    }
   ],
   "source": [
    "my_file = open(\"my_file.txt\", \"r\") # as my_file.txt is not in our current directory, opening it in read mode will throw an error\n",
    "my_file.readline()\n",
    "my_file.close()"
   ]
  },
  {
   "cell_type": "code",
   "execution_count": 37,
   "id": "2d33a358",
   "metadata": {},
   "outputs": [],
   "source": [
    "my_file = open(\"my_file.txt\", \"w\") # as my_file.txt is not in our current directory, opening it in write mode will create a new file with name my_file.txt\n",
    "my_file.write(\"Hello Python!\\n\") # my_file.write() will write \"Hello Python!\" in it\n",
    "my_file.close()"
   ]
  },
  {
   "cell_type": "code",
   "execution_count": 38,
   "id": "497bb2d9",
   "metadata": {},
   "outputs": [
    {
     "name": "stdout",
     "output_type": "stream",
     "text": [
      "Hello Python!\n",
      "\n"
     ]
    }
   ],
   "source": [
    "with open(\"my_file.txt\", \"r\") as file: # here we dont need to close the file\n",
    "    line = file.readline() # file.readline() will read file line-by-line\n",
    "    print(line)"
   ]
  },
  {
   "cell_type": "code",
   "execution_count": 39,
   "id": "cb43ffcf",
   "metadata": {},
   "outputs": [],
   "source": [
    "with open(\"my_file.txt\", \"a\") as file:\n",
    "    new_line = file.write(\"I love Python!\") # we are appending a new line in my_file.txt"
   ]
  },
  {
   "cell_type": "markdown",
   "id": "15fec96f",
   "metadata": {},
   "source": [
    "[Move to Table of Contents](#0.)"
   ]
  },
  {
   "cell_type": "markdown",
   "id": "75ae0ece",
   "metadata": {},
   "source": [
    "<a id = \"10.\"></a>\n",
    "\n",
    "# 10. Calculator (Mini-Project)\n",
    "\n",
    "<div class=\"alert alert-block alert-info\">\n",
    "Now well will make a simple calculator with the help of python using all the concpets we've learned so far in this notebook. Here we will ask user to input multiple number and then we will return the result.\n",
    "</div>\n",
    "\n",
    "<img src = \"https://files.realpython.com/media/Building-a-Python-Calculator-With-PyQt_Watermarked.e4c1a5cf2018.jpg\" width = 600 />\n",
    "<br>\n",
    "<center><str><a target=\"_blank\" href=\"https://files.realpython.com/media/Building-a-Python-Calculator-With-PyQt_Watermarked.e4c1a5cf2018.jpg\">Image Source</a></str></center>\n",
    "<br>"
   ]
  },
  {
   "cell_type": "code",
   "execution_count": 13,
   "id": "2ac3102d",
   "metadata": {},
   "outputs": [
    {
     "name": "stdout",
     "output_type": "stream",
     "text": [
      "Enter your operator: \n",
      "1. Add\n",
      "2. Subtract\n",
      "3. Multiply\n",
      "4. Divide\n",
      "Enter your choice: 4\n",
      "Enter the numbers or press 0 to exit: 50\n",
      "Enter the numbers or press 0 to exit: 5\n",
      "Enter the numbers or press 0 to exit: 0\n",
      "************************************\n",
      "50 divided by 5 =  10\n",
      "Do you want to further calcuations? (yes/no): no\n",
      "Thanks for using Calculator!\n"
     ]
    }
   ],
   "source": [
    "print(\"Enter your operator: \")\n",
    "print(\"1. Add\")\n",
    "print(\"2. Subtract\")\n",
    "print(\"3. Multiply\")\n",
    "print(\"4. Divide\")\n",
    "\n",
    "def Add(numbers):\n",
    "    result = 0\n",
    "    for i in range(len(numbers)):\n",
    "        result = result + numbers[i]\n",
    "    return result\n",
    "\n",
    "def Sub(numbers):\n",
    "    plus = []\n",
    "    minus = []\n",
    "    for num in numbers:\n",
    "        if num < 0:\n",
    "            minus.append(num)\n",
    "        else:\n",
    "            plus.append(num)\n",
    "    \n",
    "    plus_result = 0\n",
    "    for i in plus:\n",
    "        plus_result += i\n",
    "        \n",
    "    minus_result = 0\n",
    "    for i in minus:\n",
    "        minus_result += i\n",
    "        \n",
    "    if minus_result == 0:\n",
    "        print(\"You did not entered any negative value, So\")\n",
    "        return (minus_result - plus_result)\n",
    "    else:\n",
    "        return (plus_result + minus_result)\n",
    "\n",
    "def Mult(numbers):\n",
    "    result = 1\n",
    "    for i in range(len(numbers)):\n",
    "        result = result * numbers[i]\n",
    "    return result\n",
    "\n",
    "def Div(numbers):\n",
    "    return numbers[0] // numbers[1]\n",
    "\n",
    "while True:\n",
    "    choice = input(\"Enter your choice: \")\n",
    "    if choice in (\"1\", \"2\", \"3\", \"4\"):\n",
    "        numbers = []\n",
    "        while True:\n",
    "            inp = int(input(\"Enter the numbers or press 0 to exit: \"))\n",
    "            if inp == 0:\n",
    "                break\n",
    "            else:\n",
    "                numbers.append(inp)\n",
    "                \n",
    "    if choice == \"1\":\n",
    "        print(\"************************************\")\n",
    "        print(\"The sum of {} is :\".format(numbers), Add(numbers))\n",
    "        \n",
    "    elif choice == \"2\":\n",
    "        print(\"************************************\")\n",
    "        print(\"The subtraction of {} is :\".format(numbers), Sub(numbers))\n",
    "        \n",
    "    elif choice == \"3\":\n",
    "        print(\"************************************\")\n",
    "        print(\"The multiplication of {} is :\".format(numbers), Mult(numbers))\n",
    "    \n",
    "    elif choice == \"4\":\n",
    "        print(\"************************************\")\n",
    "        print(\"{} divided by {} = \".format(numbers[0], numbers[1]), Div(numbers))\n",
    "        \n",
    "    next_calculation = input(\"Do you want to further calcuations? (yes/no): \")\n",
    "    if (next_calculation == \"no\" or next_calculation == \"No\"):\n",
    "        print(\"Thanks for using Calculator!\")\n",
    "        break"
   ]
  },
  {
   "cell_type": "markdown",
   "id": "55eefa73",
   "metadata": {},
   "source": [
    "<div class=\"alert alert-block alert-success\">\n",
    "Alright, We've come to the end of this notebook. If you like this tutorial then consider upvoting this notebook and share it with others. \n",
    "</div>"
   ]
  }
 ],
 "metadata": {
  "kernelspec": {
   "display_name": "Python 3 (ipykernel)",
   "language": "python",
   "name": "python3"
  },
  "language_info": {
   "codemirror_mode": {
    "name": "ipython",
    "version": 3
   },
   "file_extension": ".py",
   "mimetype": "text/x-python",
   "name": "python",
   "nbconvert_exporter": "python",
   "pygments_lexer": "ipython3",
   "version": "3.8.13"
  }
 },
 "nbformat": 4,
 "nbformat_minor": 5
}
